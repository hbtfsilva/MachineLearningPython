{
  "cells": [
    {
      "cell_type": "markdown",
      "metadata": {
        "id": "view-in-github",
        "colab_type": "text"
      },
      "source": [
        "<a href=\"https://colab.research.google.com/github/hbtfsilva/MachineLearningPython/blob/main/IdDemandasInternas.ipynb\" target=\"_parent\"><img src=\"https://colab.research.google.com/assets/colab-badge.svg\" alt=\"Open In Colab\"/></a>"
      ]
    },
    {
      "cell_type": "markdown",
      "source": [
        "# Identificar em meio uma base Excel o padrão de respostas do setor de demandas internas, e tentar descobrir porque que existe erro no direcionamento de demandas incorretas."
      ],
      "metadata": {
        "id": "tPhdgN4itYCf"
      }
    },
    {
      "cell_type": "markdown",
      "source": [
        "Importar bibliotecas: PYTHON"
      ],
      "metadata": {
        "id": "q451wV4NsQxy"
      }
    },
    {
      "cell_type": "code",
      "source": [
        "import pandas as pd\n",
        "import numpy as np\n",
        "from sklearn.feature_extraction.text import CountVectorizer\n",
        "from sklearn.naive_bayes import MultinomialNB"
      ],
      "metadata": {
        "id": "tmCLr4jcrHZw"
      },
      "execution_count": null,
      "outputs": []
    },
    {
      "cell_type": "markdown",
      "source": [
        "Carregar o arquivo Excel em uma dataframe do Pandas: BASH"
      ],
      "metadata": {
        "id": "yMBwpAMFsRZJ"
      }
    },
    {
      "cell_type": "code",
      "source": [
        "df = pd.read_excel('formularios.xlsx')"
      ],
      "metadata": {
        "id": "JhJLNubkreSl"
      },
      "execution_count": null,
      "outputs": []
    },
    {
      "cell_type": "markdown",
      "source": [
        "Separe as colunas que contêm as respostas do formulário em uma variável separada: BASH"
      ],
      "metadata": {
        "id": "tnqDpcSUsSNh"
      }
    },
    {
      "cell_type": "code",
      "source": [
        "respostas = df['Respostas']"
      ],
      "metadata": {
        "id": "oZbS866-rgal"
      },
      "execution_count": null,
      "outputs": []
    },
    {
      "cell_type": "markdown",
      "source": [
        "Use o CountVectorizer para criar uma matriz de frequêcia de termos das respostas: SCSS"
      ],
      "metadata": {
        "id": "lfmv7mW5sIaJ"
      }
    },
    {
      "cell_type": "code",
      "source": [
        "vectorizer = CountVectorizer()\n",
        "X = vectorizer.fit_transform(respostas)"
      ],
      "metadata": {
        "id": "u9AllWPYrkpr"
      },
      "execution_count": null,
      "outputs": []
    },
    {
      "cell_type": "markdown",
      "source": [
        "Defina a variável alvo (ou seja, o padrão que você deseja reconhecer) usando outra coluna do seu dataframe: BASH"
      ],
      "metadata": {
        "id": "BusRT5s7r7cz"
      }
    },
    {
      "cell_type": "code",
      "source": [
        "y = df['Padrão']"
      ],
      "metadata": {
        "id": "3TnhC4r9rkgM"
      },
      "execution_count": null,
      "outputs": []
    },
    {
      "cell_type": "markdown",
      "source": [
        "Treine o modelo Naive Bayes: SCSS"
      ],
      "metadata": {
        "id": "ae5UEnw1r2iC"
      }
    },
    {
      "cell_type": "code",
      "source": [
        "modelo = MultinomialNB()\n",
        "modelo.fit(X, y)"
      ],
      "metadata": {
        "id": "yx10yk4Rro4U"
      },
      "execution_count": null,
      "outputs": []
    },
    {
      "cell_type": "markdown",
      "source": [
        "Use o modelo para prever o padrão em novas repostas: SCSS"
      ],
      "metadata": {
        "id": "VeisgqR2rt4v"
      }
    },
    {
      "cell_type": "code",
      "source": [
        "nova_resposta = [\"Resposta exemplo\"]\n",
        "X_novo = vectorizer.transform(nova_resposta)\n",
        "previsao = modelo.predict(X_novo)\n",
        "print(\"Previsão:\", previsao)"
      ],
      "metadata": {
        "id": "gmGpRCUGrq6L"
      },
      "execution_count": null,
      "outputs": []
    }
  ],
  "metadata": {
    "colab": {
      "name": "Olá, este é o Colaboratory",
      "toc_visible": true,
      "provenance": [],
      "include_colab_link": true
    },
    "kernelspec": {
      "display_name": "Python 3",
      "name": "python3"
    }
  },
  "nbformat": 4,
  "nbformat_minor": 0
}